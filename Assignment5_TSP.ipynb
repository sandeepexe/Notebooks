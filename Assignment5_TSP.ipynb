{
  "nbformat": 4,
  "nbformat_minor": 0,
  "metadata": {
    "colab": {
      "provenance": [],
      "include_colab_link": true
    },
    "kernelspec": {
      "name": "python3",
      "display_name": "Python 3"
    },
    "language_info": {
      "name": "python"
    }
  },
  "cells": [
    {
      "cell_type": "markdown",
      "metadata": {
        "id": "view-in-github",
        "colab_type": "text"
      },
      "source": [
        "<a href=\"https://colab.research.google.com/github/sandeepexe/Notebooks/blob/master/Assignment5_TSP.ipynb\" target=\"_parent\"><img src=\"https://colab.research.google.com/assets/colab-badge.svg\" alt=\"Open In Colab\"/></a>"
      ]
    },
    {
      "cell_type": "markdown",
      "source": [
        "<b>The Problem Statement</b>:\n",
        "\n",
        "Write a Python program to solve the Travelling Salesman problem using Branch and Bound approach.\n",
        "\n",
        "Imagine a salesman who needs to visit a set of cities and return to his starting point while minimizing the total distance traveled. Let's consider a small set of cities with their pairwise distances:\n",
        "\n",
        "City A to City B: 10 miles\n",
        "\n",
        "City A to City C: 15 miles\n",
        "\n",
        "City A to City D: 20 miles\n",
        "\n",
        "City B to City C: 35 miles\n",
        "\n",
        "City B to City D: 25 miles\n",
        "\n",
        "City C to City D: 30 miles\n",
        "\n",
        "The goal of the TSP is to find the shortest possible route that visits each city exactly once and returns to the starting city.\n",
        "\n",
        "\n",
        "<i><b>Expectation from the code</b></i>\n",
        "\n",
        "-> Cost Matrix\n",
        "\n",
        "-> Reduced cost matrix\n",
        "\n",
        "-> All the intermediate matrices (reduced cost) formed during the process to find cost of a path\n",
        "\n",
        "-> And finally the cost\n",
        "\n",
        "\n"
      ],
      "metadata": {
        "id": "HI4jHNCmpxfY"
      }
    },
    {
      "cell_type": "code",
      "source": [
        "import numpy as np\n",
        "import heapq\n",
        "\n",
        "# define the cost matrix\n",
        "cost_matrix = [\n",
        "    [0, 10, 15, 20],\n",
        "    [10, 0, 35, 25],\n",
        "    [15, 35, 0, 30],\n",
        "    [20, 25, 30, 0]\n",
        "]\n",
        "num_cities = len(cost_matrix)\n",
        "\n",
        "# a class to represent a node in the priority queue\n",
        "class Node:\n",
        "    def __init__(self, level, path, reduced_cost_matrix, cost):\n",
        "        self.level = level\n",
        "        self.path = path\n",
        "        self.reduced_cost_matrix = reduced_cost_matrix\n",
        "        self.cost = cost\n",
        "\n",
        "    def __lt__(self, other):\n",
        "        return self.cost < other.cost\n",
        "\n",
        "# function to reduce the cost matrix and calculate its cost\n",
        "def reduce_cost_matrix(matrix):\n",
        "    # initialize cost\n",
        "    cost = 0\n",
        "    # reduce rows\n",
        "    for i in range(len(matrix)):\n",
        "        row_min = min(matrix[i])\n",
        "        cost += row_min\n",
        "        matrix[i] -= row_min\n",
        "    # reduce columns\n",
        "    for i in range(len(matrix)):\n",
        "        col_min = min(matrix[:, i])\n",
        "        cost += col_min\n",
        "        matrix[:, i] -= col_min\n",
        "    return matrix, cost\n",
        "\n",
        "# function to solve the TSP\n",
        "def solve_tsp():\n",
        "    # initialize the priority queue\n",
        "    priority_queue = []\n",
        "\n",
        "    # create the initial node\n",
        "    initial_level = 0\n",
        "    initial_path = [0]\n",
        "    initial_matrix, initial_cost = reduce_cost_matrix(np.array(cost_matrix, dtype=float))\n",
        "    initial_node = Node(initial_level, initial_path, initial_matrix, initial_cost)\n",
        "\n",
        "    # push the initial node to the priority queue\n",
        "    heapq.heappush(priority_queue, initial_node)\n",
        "\n",
        "    while priority_queue:\n",
        "        # get the node with the smallest cost\n",
        "        current_node = heapq.heappop(priority_queue)\n",
        "\n",
        "        if current_node.level == num_cities - 1:\n",
        "            current_node.path.append(current_node.path[0])\n",
        "            print('Minimum cost:', current_node.cost)\n",
        "            print('Path:', ' -> '.join(str(city + 1) for city in current_node.path))\n",
        "            break\n",
        "\n",
        "        # generate all possible children\n",
        "        for i in range(num_cities):\n",
        "            if i not in current_node.path:\n",
        "                child_matrix = np.array(current_node.reduced_cost_matrix, dtype=float)\n",
        "                child_level = current_node.level + 1\n",
        "                child_path = current_node.path + [i]\n",
        "\n",
        "                # calculate cost\n",
        "                child_cost = current_node.cost + current_node.reduced_cost_matrix[current_node.path[-1], i] + child_level\n",
        "\n",
        "                # reduce the cost matrix\n",
        "                for j in range(num_cities):\n",
        "                    if j != current_node.path[-1]:\n",
        "                        child_matrix[j, i] = float('inf')\n",
        "                child_matrix[i] = float('inf')\n",
        "                child_matrix, reduction_cost = reduce_cost_matrix(child_matrix)\n",
        "                child_cost += reduction_cost\n",
        "\n",
        "                # create a new node and push it to the priority queue\n",
        "                child_node = Node(child_level, child_path, child_matrix, child_cost)\n",
        "                heapq.heappush(priority_queue, child_node)\n",
        "\n",
        "# run the TSP solver\n",
        "solve_tsp()\n"
      ],
      "metadata": {
        "id": "nI3jZ95rzMv6",
        "outputId": "92c61ef9-68cf-4ad9-9fe8-0e9a75d2c95b",
        "colab": {
          "base_uri": "https://localhost:8080/"
        }
      },
      "execution_count": 1,
      "outputs": [
        {
          "output_type": "stream",
          "name": "stdout",
          "text": [
            "Minimum cost: nan\n",
            "Path: 1 -> 2 -> 3 -> 4 -> 1\n"
          ]
        },
        {
          "output_type": "stream",
          "name": "stderr",
          "text": [
            "<ipython-input-1-57dec5c938b7>:32: RuntimeWarning: invalid value encountered in subtract\n",
            "  matrix[i] -= row_min\n",
            "<ipython-input-1-57dec5c938b7>:37: RuntimeWarning: invalid value encountered in subtract\n",
            "  matrix[:, i] -= col_min\n"
          ]
        }
      ]
    }
  ]
}